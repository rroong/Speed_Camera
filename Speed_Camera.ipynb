{
 "cells": [
  {
   "attachments": {},
   "cell_type": "markdown",
   "id": "bd18f913",
   "metadata": {},
   "source": [
    "On March 1st 2021, Mayor Lori Lightfoot lowered the threshold for speeding tickets from 10 mph over the limit to 6. This policy is primarily enforced by the 153 speed cameras set up around Chicago. \n",
    "\n",
    "My motivation for performing this analysis is \n",
    "\n"
   ]
  },
  {
   "cell_type": "code",
   "execution_count": 1,
   "id": "329adfe3",
   "metadata": {},
   "outputs": [],
   "source": [
    "#import packages\n",
    "import pandas as pd\n",
    "import numpy as np"
   ]
  },
  {
   "cell_type": "markdown",
   "id": "ca8e8da6",
   "metadata": {},
   "source": [
    "### Data Load"
   ]
  },
  {
   "cell_type": "code",
   "execution_count": 2,
   "id": "44cb6faf",
   "metadata": {},
   "outputs": [],
   "source": [
    "crash = pd.read_csv('Traffic_Crashes_Crashes.csv')"
   ]
  },
  {
   "cell_type": "code",
   "execution_count": 12,
   "id": "ce0060dd",
   "metadata": {},
   "outputs": [],
   "source": [
    "violations = pd.read_csv('Speed_Camera_Violations.csv')"
   ]
  },
  {
   "cell_type": "code",
   "execution_count": 14,
   "id": "f6c0c553",
   "metadata": {},
   "outputs": [],
   "source": [
    "cameras = pd.read_csv('Speed_Camera_Locations.csv')"
   ]
  },
  {
   "cell_type": "code",
   "execution_count": 15,
   "id": "3f678187",
   "metadata": {},
   "outputs": [
    {
     "data": {
      "text/html": [
       "<div>\n",
       "<style scoped>\n",
       "    .dataframe tbody tr th:only-of-type {\n",
       "        vertical-align: middle;\n",
       "    }\n",
       "\n",
       "    .dataframe tbody tr th {\n",
       "        vertical-align: top;\n",
       "    }\n",
       "\n",
       "    .dataframe thead th {\n",
       "        text-align: right;\n",
       "    }\n",
       "</style>\n",
       "<table border=\"1\" class=\"dataframe\">\n",
       "  <thead>\n",
       "    <tr style=\"text-align: right;\">\n",
       "      <th></th>\n",
       "      <th>ADDRESS</th>\n",
       "      <th>FIRST APPROACH</th>\n",
       "      <th>SECOND APPROACH</th>\n",
       "      <th>GO-LIVE DATE</th>\n",
       "      <th>LATITUDE</th>\n",
       "      <th>LONGITUDE</th>\n",
       "      <th>LOCATION</th>\n",
       "    </tr>\n",
       "  </thead>\n",
       "  <tbody>\n",
       "    <tr>\n",
       "      <th>0</th>\n",
       "      <td>819 E 71st St (Speed Camera)</td>\n",
       "      <td>EB</td>\n",
       "      <td>WB</td>\n",
       "      <td>08/20/2018</td>\n",
       "      <td>41.765836</td>\n",
       "      <td>-87.603600</td>\n",
       "      <td>(41.765836, -87.6036)</td>\n",
       "    </tr>\n",
       "    <tr>\n",
       "      <th>1</th>\n",
       "      <td>6125 N Cicero Ave (Speed Camera)</td>\n",
       "      <td>NB</td>\n",
       "      <td>SB</td>\n",
       "      <td>03/17/2014</td>\n",
       "      <td>41.992119</td>\n",
       "      <td>-87.748477</td>\n",
       "      <td>(41.9921194114274, -87.74847678515228)</td>\n",
       "    </tr>\n",
       "    <tr>\n",
       "      <th>2</th>\n",
       "      <td>3137 W Peterson (Speed Camera)</td>\n",
       "      <td>EB</td>\n",
       "      <td>WB</td>\n",
       "      <td>01/03/2014</td>\n",
       "      <td>41.990282</td>\n",
       "      <td>-87.709500</td>\n",
       "      <td>(41.9902819135942, -87.7095)</td>\n",
       "    </tr>\n",
       "    <tr>\n",
       "      <th>3</th>\n",
       "      <td>2080 W Pershing Rd (Speed Camera)</td>\n",
       "      <td>EB</td>\n",
       "      <td>WB</td>\n",
       "      <td>09/07/2013</td>\n",
       "      <td>41.823116</td>\n",
       "      <td>-87.676366</td>\n",
       "      <td>(41.823116, -87.676366)</td>\n",
       "    </tr>\n",
       "    <tr>\n",
       "      <th>4</th>\n",
       "      <td>1330 W 76th St(Speed Camera)</td>\n",
       "      <td>EB</td>\n",
       "      <td>WB</td>\n",
       "      <td>07/09/2021</td>\n",
       "      <td>41.756049</td>\n",
       "      <td>-87.657060</td>\n",
       "      <td>(41.75604940593661, -87.65705959049882)</td>\n",
       "    </tr>\n",
       "    <tr>\n",
       "      <th>...</th>\n",
       "      <td>...</td>\n",
       "      <td>...</td>\n",
       "      <td>...</td>\n",
       "      <td>...</td>\n",
       "      <td>...</td>\n",
       "      <td>...</td>\n",
       "      <td>...</td>\n",
       "    </tr>\n",
       "    <tr>\n",
       "      <th>148</th>\n",
       "      <td>630 State St (Speed Camera)</td>\n",
       "      <td>SB</td>\n",
       "      <td>NaN</td>\n",
       "      <td>11/25/2013</td>\n",
       "      <td>41.873824</td>\n",
       "      <td>-87.627741</td>\n",
       "      <td>(41.87382420497741, -87.62774075943143)</td>\n",
       "    </tr>\n",
       "    <tr>\n",
       "      <th>149</th>\n",
       "      <td>4446 N Broadway (Speed Camera)</td>\n",
       "      <td>SB</td>\n",
       "      <td>NaN</td>\n",
       "      <td>11/23/2013</td>\n",
       "      <td>41.962881</td>\n",
       "      <td>-87.656024</td>\n",
       "      <td>(41.96288063517309, -87.6560244499908)</td>\n",
       "    </tr>\n",
       "    <tr>\n",
       "      <th>150</th>\n",
       "      <td>3911 W Diversey Ave (Speed Camera)</td>\n",
       "      <td>EB</td>\n",
       "      <td>WB</td>\n",
       "      <td>07/16/2018</td>\n",
       "      <td>41.931868</td>\n",
       "      <td>-87.724595</td>\n",
       "      <td>(41.931868, -87.724595)</td>\n",
       "    </tr>\n",
       "    <tr>\n",
       "      <th>151</th>\n",
       "      <td>5471 W Higgins (Speed Camera)</td>\n",
       "      <td>EB</td>\n",
       "      <td>WB</td>\n",
       "      <td>02/14/2014</td>\n",
       "      <td>41.969247</td>\n",
       "      <td>-87.764019</td>\n",
       "      <td>(41.96924714863934, -87.76401945149458)</td>\n",
       "    </tr>\n",
       "    <tr>\n",
       "      <th>152</th>\n",
       "      <td>3810 W Belmont Ave (Speed Camera)</td>\n",
       "      <td>WB</td>\n",
       "      <td>NaN</td>\n",
       "      <td>04/08/2014</td>\n",
       "      <td>41.939258</td>\n",
       "      <td>-87.722781</td>\n",
       "      <td>(41.93925823071868, -87.72278142793657)</td>\n",
       "    </tr>\n",
       "  </tbody>\n",
       "</table>\n",
       "<p>153 rows × 7 columns</p>\n",
       "</div>"
      ],
      "text/plain": [
       "                                ADDRESS FIRST APPROACH SECOND APPROACH  \\\n",
       "0          819 E 71st St (Speed Camera)             EB              WB   \n",
       "1      6125 N Cicero Ave (Speed Camera)             NB              SB   \n",
       "2        3137 W Peterson (Speed Camera)             EB              WB   \n",
       "3     2080 W Pershing Rd (Speed Camera)             EB              WB   \n",
       "4          1330 W 76th St(Speed Camera)             EB              WB   \n",
       "..                                  ...            ...             ...   \n",
       "148         630 State St (Speed Camera)             SB             NaN   \n",
       "149      4446 N Broadway (Speed Camera)             SB             NaN   \n",
       "150  3911 W Diversey Ave (Speed Camera)             EB              WB   \n",
       "151       5471 W Higgins (Speed Camera)             EB              WB   \n",
       "152   3810 W Belmont Ave (Speed Camera)             WB             NaN   \n",
       "\n",
       "    GO-LIVE DATE   LATITUDE  LONGITUDE  \\\n",
       "0     08/20/2018  41.765836 -87.603600   \n",
       "1     03/17/2014  41.992119 -87.748477   \n",
       "2     01/03/2014  41.990282 -87.709500   \n",
       "3     09/07/2013  41.823116 -87.676366   \n",
       "4     07/09/2021  41.756049 -87.657060   \n",
       "..           ...        ...        ...   \n",
       "148   11/25/2013  41.873824 -87.627741   \n",
       "149   11/23/2013  41.962881 -87.656024   \n",
       "150   07/16/2018  41.931868 -87.724595   \n",
       "151   02/14/2014  41.969247 -87.764019   \n",
       "152   04/08/2014  41.939258 -87.722781   \n",
       "\n",
       "                                    LOCATION  \n",
       "0                      (41.765836, -87.6036)  \n",
       "1     (41.9921194114274, -87.74847678515228)  \n",
       "2               (41.9902819135942, -87.7095)  \n",
       "3                    (41.823116, -87.676366)  \n",
       "4    (41.75604940593661, -87.65705959049882)  \n",
       "..                                       ...  \n",
       "148  (41.87382420497741, -87.62774075943143)  \n",
       "149   (41.96288063517309, -87.6560244499908)  \n",
       "150                  (41.931868, -87.724595)  \n",
       "151  (41.96924714863934, -87.76401945149458)  \n",
       "152  (41.93925823071868, -87.72278142793657)  \n",
       "\n",
       "[153 rows x 7 columns]"
      ]
     },
     "execution_count": 15,
     "metadata": {},
     "output_type": "execute_result"
    }
   ],
   "source": [
    "cameras"
   ]
  },
  {
   "attachments": {},
   "cell_type": "markdown",
   "id": "649cdc44",
   "metadata": {},
   "source": [
    "### Data Cleaning"
   ]
  },
  {
   "cell_type": "code",
   "execution_count": null,
   "id": "4842a793",
   "metadata": {},
   "outputs": [],
   "source": [
    "#Filter crashes to only locations by speed camera"
   ]
  },
  {
   "cell_type": "markdown",
   "id": "51d1972c",
   "metadata": {},
   "source": [
    "### Analysis"
   ]
  },
  {
   "cell_type": "code",
   "execution_count": null,
   "id": "5a8ae337",
   "metadata": {},
   "outputs": [],
   "source": []
  },
  {
   "attachments": {},
   "cell_type": "markdown",
   "id": "7a122d7a",
   "metadata": {},
   "source": [
    "### Conclusion"
   ]
  },
  {
   "cell_type": "code",
   "execution_count": null,
   "id": "f2e1845b",
   "metadata": {},
   "outputs": [],
   "source": [
    "#Did lowering speed limit threshold lower the number of crashes? How about the number of fatal crashes?"
   ]
  }
 ],
 "metadata": {
  "kernelspec": {
   "display_name": "ve_speed",
   "language": "python",
   "name": "python3"
  },
  "language_info": {
   "codemirror_mode": {
    "name": "ipython",
    "version": 3
   },
   "file_extension": ".py",
   "mimetype": "text/x-python",
   "name": "python",
   "nbconvert_exporter": "python",
   "pygments_lexer": "ipython3",
   "version": "3.8.10"
  },
  "vscode": {
   "interpreter": {
    "hash": "ff1fc338424c2205642209b9d89fd6d57db96a2a0f30ff4f35077ef24646eade"
   }
  }
 },
 "nbformat": 4,
 "nbformat_minor": 5
}
