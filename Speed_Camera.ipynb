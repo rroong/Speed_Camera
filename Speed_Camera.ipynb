{
 "cells": [
  {
   "cell_type": "markdown",
   "id": "bd18f913",
   "metadata": {},
   "source": [
    "On March 1st 2021, Mayor Lori Lightfoot lowered the threshold for speeding tickets from 10 mph over the limit to 6. This policy is primarily enforced by the 153 speed cameras set up around Chicago. \n",
    "\n",
    "My motivation for performing this analysis is \n",
    "\n"
   ]
  },
  {
   "cell_type": "code",
   "execution_count": 2,
   "id": "329adfe3",
   "metadata": {},
   "outputs": [],
   "source": [
    "#import packages\n",
    "import pandas as pd\n",
    "import numpy as np\n",
    "import re\n",
    "import matplotlib.pyplot as plt\n",
    "import datetime\n",
    "import sklearn as sk"
   ]
  },
  {
   "cell_type": "markdown",
   "id": "ca8e8da6",
   "metadata": {},
   "source": [
    "### Data Load"
   ]
  },
  {
   "cell_type": "code",
   "execution_count": 3,
   "id": "44cb6faf",
   "metadata": {},
   "outputs": [],
   "source": [
    "crash = pd.read_csv('Traffic_Crashes_Crashes.csv')"
   ]
  },
  {
   "cell_type": "code",
   "execution_count": 4,
   "id": "ce0060dd",
   "metadata": {},
   "outputs": [],
   "source": [
    "violations = pd.read_csv('Speed_Camera_Violations.csv')"
   ]
  },
  {
   "cell_type": "code",
   "execution_count": 5,
   "id": "f6c0c553",
   "metadata": {},
   "outputs": [],
   "source": [
    "cameras = pd.read_csv('Speed_Camera_Locations.csv')"
   ]
  },
  {
   "cell_type": "markdown",
   "id": "1fe7d30b",
   "metadata": {},
   "source": [
    "### Data Cleaning"
   ]
  },
  {
   "cell_type": "code",
   "execution_count": 7,
   "id": "5b4bf408",
   "metadata": {},
   "outputs": [],
   "source": [
    "#Formating camera address to be grouped by their respective Chicago city block\n",
    "cameras['ADDRESS'] = [re.sub(\"\\(Speed Camera\\)\",\"\",addr).strip().upper() for addr in cameras['ADDRESS']]\n",
    "cameras['STREET_NO'] = [re.findall(\"\\d+\",street_no)[0] for street_no in cameras['ADDRESS']]\n",
    "cameras['BLOCK_NO'] = round(cameras['STREET_NO'].astype(int)/100)*100\n",
    "cameras = cameras.astype({\"BLOCK_NO\":int})\n",
    "cameras['FULL_ADDR'] = [re.sub(street_no,block_no,address) for street_no, block_no, address \n",
    "                        in zip(cameras['STREET_NO'],cameras['BLOCK_NO'].astype(str),cameras['ADDRESS'])]"
   ]
  },
  {
   "cell_type": "code",
   "execution_count": 10,
   "id": "11297ba6",
   "metadata": {},
   "outputs": [],
   "source": [
    "#Remove crashes without reported streets\n",
    "crash.dropna(subset=[\"STREET_NAME\"],inplace=True)\n",
    "\n",
    "#Formatting location of crash address to be grouped by their respective Chicago city block\n",
    "crash['STREET_NO'] = crash['STREET_NO'].astype({\"STREET_NO\":int})\n",
    "crash['BLOCK_NO'] = round(crash['STREET_NO']/100)*100\n",
    "crash = crash.astype({\"BLOCK_NO\":int})\n",
    "crash['FULL_ADDR'] = crash['BLOCK_NO'].astype(str) +\" \"+ crash['STREET_DIRECTION'] +\" \"+ crash['STREET_NAME'] \n",
    "\n",
    "#Format date to date format and adding a column to allow for date to be grouped by month\n",
    "crash['CRASH_DATE'] = pd.to_datetime(crash['CRASH_DATE'],format=\"%m/%d/%Y %I:%M:%S %p\").dt.date\n",
    "crash['CRASH_DATE_TRUNC'] = crash['CRASH_DATE'].apply(lambda s: datetime.date(s.year, s.month, 1))\n",
    "\n",
    "violations['VIOLATION DATE'] = pd.to_datetime(violations['VIOLATION DATE'],format=\"%m/%d/%Y\").dt.date\n",
    "violations['VIOLATION DATE TRUNC'] = violations['VIOLATION DATE'].apply(lambda s: datetime.date(s.year, s.month, 1))\n"
   ]
  },
  {
   "cell_type": "code",
   "execution_count": 12,
   "id": "1671cc69",
   "metadata": {},
   "outputs": [],
   "source": [
    "#Dropping crashes that occurred prior to 9/1/17 because entire city did not start reporting on crashes until this date.\n",
    "#datetime_str = '09/01/2017'\n",
    "#datetime_object = datetime.datetime.strptime(datetime_str, '%m/%d/%Y')\n",
    "\n",
    "crash = crash[(crash['CRASH_DATE_TRUNC']>datetime.date(2017,9,1))&(crash['CRASH_DATE_TRUNC']<datetime.date(2023,1,1))]\n",
    "violations = violations[(violations['VIOLATION DATE']>datetime.date(2017,9,1))&(violations['VIOLATION DATE']<datetime.date(2023,1,1))]"
   ]
  },
  {
   "cell_type": "code",
   "execution_count": 14,
   "id": "abcc1763",
   "metadata": {},
   "outputs": [],
   "source": [
    "#Group by month truncated date and sum number of occurences\n",
    "crash_group = crash[['CRASH_DATE_TRUNC','CRASH_RECORD_ID']].groupby(by='CRASH_DATE_TRUNC').count()\n",
    "violation_group = violations[['VIOLATION DATE TRUNC','VIOLATIONS']].groupby(by='VIOLATION DATE TRUNC').sum()"
   ]
  },
  {
   "cell_type": "code",
   "execution_count": 16,
   "id": "d759fb44",
   "metadata": {},
   "outputs": [],
   "source": [
    "#filter crash locations by speed camera block location plus adjacent streets.\n",
    "cameras['BLOCK_NO_UP'] = cameras['BLOCK_NO'] +100\n",
    "cameras['BLOCK_NO_DOWN'] = cameras['BLOCK_NO'] -100"
   ]
  },
  {
   "cell_type": "code",
   "execution_count": 17,
   "id": "8d320e22",
   "metadata": {},
   "outputs": [],
   "source": [
    "cameras.loc[cameras[cameras['BLOCK_NO_DOWN']<0].index,'BLOCK_NO_DOWN'] = 0"
   ]
  },
  {
   "cell_type": "code",
   "execution_count": 18,
   "id": "4a91c101",
   "metadata": {},
   "outputs": [],
   "source": [
    "cameras['FULL_ADDR_UP'] = [re.sub(street_no,block_no,address) for street_no, block_no, address \n",
    "                        in zip(cameras['STREET_NO'],cameras['BLOCK_NO_UP'].astype(str),cameras['ADDRESS'])]\n",
    "cameras['FULL_ADDR_DOWN'] = [re.sub(street_no,block_no,address) for street_no, block_no, address \n",
    "                        in zip(cameras['STREET_NO'],cameras['BLOCK_NO_DOWN'].astype(str),cameras['ADDRESS'])]"
   ]
  },
  {
   "cell_type": "code",
   "execution_count": 27,
   "id": "6927ad41",
   "metadata": {},
   "outputs": [],
   "source": [
    "camera_area = pd.concat([cameras['FULL_ADDR'],cameras['FULL_ADDR_UP'],cameras['FULL_ADDR_DOWN']]).unique()"
   ]
  },
  {
   "cell_type": "code",
   "execution_count": 85,
   "id": "7578ddbb",
   "metadata": {},
   "outputs": [],
   "source": [
    "test = crash.merge(cameras,on=\"FULL_ADDR\",how=\"left\")"
   ]
  },
  {
   "cell_type": "code",
   "execution_count": 86,
   "id": "9400130b",
   "metadata": {},
   "outputs": [
    {
     "name": "stdout",
     "output_type": "stream",
     "text": [
      "<class 'pandas.core.frame.DataFrame'>\n",
      "Int64Index: 577700 entries, 0 to 577699\n",
      "Data columns (total 61 columns):\n",
      " #   Column                         Non-Null Count   Dtype  \n",
      "---  ------                         --------------   -----  \n",
      " 0   CRASH_RECORD_ID                577700 non-null  object \n",
      " 1   RD_NO                          577700 non-null  object \n",
      " 2   CRASH_DATE_EST_I               42543 non-null   object \n",
      " 3   CRASH_DATE                     577700 non-null  object \n",
      " 4   POSTED_SPEED_LIMIT             577700 non-null  int64  \n",
      " 5   TRAFFIC_CONTROL_DEVICE         577700 non-null  object \n",
      " 6   DEVICE_CONDITION               577700 non-null  object \n",
      " 7   WEATHER_CONDITION              577700 non-null  object \n",
      " 8   LIGHTING_CONDITION             577700 non-null  object \n",
      " 9   FIRST_CRASH_TYPE               577700 non-null  object \n",
      " 10  TRAFFICWAY_TYPE                577700 non-null  object \n",
      " 11  LANE_CNT                       111254 non-null  float64\n",
      " 12  ALIGNMENT                      577700 non-null  object \n",
      " 13  ROADWAY_SURFACE_COND           577700 non-null  object \n",
      " 14  ROAD_DEFECT                    577700 non-null  object \n",
      " 15  REPORT_TYPE                    560247 non-null  object \n",
      " 16  CRASH_TYPE                     577700 non-null  object \n",
      " 17  INTERSECTION_RELATED_I         136727 non-null  object \n",
      " 18  NOT_RIGHT_OF_WAY_I             27530 non-null   object \n",
      " 19  HIT_AND_RUN_I                  182843 non-null  object \n",
      " 20  DAMAGE                         577700 non-null  object \n",
      " 21  DATE_POLICE_NOTIFIED           577700 non-null  object \n",
      " 22  PRIM_CONTRIBUTORY_CAUSE        577700 non-null  object \n",
      " 23  SEC_CONTRIBUTORY_CAUSE         577700 non-null  object \n",
      " 24  STREET_NO_x                    577700 non-null  int32  \n",
      " 25  STREET_DIRECTION               577699 non-null  object \n",
      " 26  STREET_NAME                    577700 non-null  object \n",
      " 27  BEAT_OF_OCCURRENCE             577700 non-null  float64\n",
      " 28  PHOTOS_TAKEN_I                 6774 non-null    object \n",
      " 29  STATEMENTS_TAKEN_I             12451 non-null   object \n",
      " 30  DOORING_I                      1770 non-null    object \n",
      " 31  WORK_ZONE_I                    3149 non-null    object \n",
      " 32  WORK_ZONE_TYPE                 2463 non-null    object \n",
      " 33  WORKERS_PRESENT_I              887 non-null     object \n",
      " 34  NUM_UNITS                      577700 non-null  int64  \n",
      " 35  MOST_SEVERE_INJURY             576357 non-null  object \n",
      " 36  INJURIES_TOTAL                 576364 non-null  float64\n",
      " 37  INJURIES_FATAL                 576364 non-null  float64\n",
      " 38  INJURIES_INCAPACITATING        576364 non-null  float64\n",
      " 39  INJURIES_NON_INCAPACITATING    576364 non-null  float64\n",
      " 40  INJURIES_REPORTED_NOT_EVIDENT  576364 non-null  float64\n",
      " 41  INJURIES_NO_INDICATION         576364 non-null  float64\n",
      " 42  INJURIES_UNKNOWN               576364 non-null  float64\n",
      " 43  CRASH_HOUR                     577700 non-null  int64  \n",
      " 44  CRASH_DAY_OF_WEEK              577700 non-null  int64  \n",
      " 45  CRASH_MONTH                    577700 non-null  int64  \n",
      " 46  LATITUDE_x                     573824 non-null  float64\n",
      " 47  LONGITUDE_x                    573824 non-null  float64\n",
      " 48  LOCATION_x                     573824 non-null  object \n",
      " 49  BLOCK_NO_x                     577700 non-null  int32  \n",
      " 50  FULL_ADDR                      577699 non-null  object \n",
      " 51  CRASH_DATE_TRUNC               577700 non-null  object \n",
      " 52  ADDRESS                        8490 non-null    object \n",
      " 53  FIRST APPROACH                 8398 non-null    object \n",
      " 54  SECOND APPROACH                2726 non-null    object \n",
      " 55  GO-LIVE DATE                   8490 non-null    object \n",
      " 56  LATITUDE_y                     8490 non-null    float64\n",
      " 57  LONGITUDE_y                    8490 non-null    float64\n",
      " 58  LOCATION_y                     8490 non-null    object \n",
      " 59  STREET_NO_y                    8490 non-null    object \n",
      " 60  BLOCK_NO_y                     8490 non-null    float64\n",
      "dtypes: float64(14), int32(2), int64(5), object(40)\n",
      "memory usage: 268.9+ MB\n"
     ]
    }
   ],
   "source": [
    "test.info()"
   ]
  },
  {
   "cell_type": "markdown",
   "id": "351f4594",
   "metadata": {},
   "source": [
    "### Data Exploration"
   ]
  },
  {
   "cell_type": "code",
   "execution_count": 74,
   "id": "8826116b",
   "metadata": {},
   "outputs": [
    {
     "data": {
      "text/plain": [
       "<matplotlib.lines.Line2D at 0x1f80f030550>"
      ]
     },
     "execution_count": 74,
     "metadata": {},
     "output_type": "execute_result"
    },
    {
     "data": {
      "image/png": "[encoded data removed]",
      "text/plain": [
       "<Figure size 432x288 with 1 Axes>"
      ]
     },
     "metadata": {
      "needs_background": "light"
     },
     "output_type": "display_data"
    }
   ],
   "source": [
    "fig, ax = plt.subplots()\n",
    "ax.plot(crash_group.index, crash_group['CRASH_RECORD_ID'])\n",
    "plt.axvline(datetime.datetime(2021, 3, 1), color='r')"
   ]
  },
  {
   "cell_type": "code",
   "execution_count": 75,
   "id": "1ddf732f",
   "metadata": {},
   "outputs": [
    {
     "data": {
      "text/plain": [
       "<matplotlib.lines.Line2D at 0x1f80e2319d0>"
      ]
     },
     "execution_count": 75,
     "metadata": {},
     "output_type": "execute_result"
    },
    {
     "data": {
      "image/png": "[encoded data removed]",
      "text/plain": [
       "<Figure size 432x288 with 1 Axes>"
      ]
     },
     "metadata": {
      "needs_background": "light"
     },
     "output_type": "display_data"
    }
   ],
   "source": [
    "fig, ax = plt.subplots()\n",
    "ax.plot(cta_group.index, cta_group['total_rides'])\n",
    "plt.axvline(datetime.datetime(2021, 3, 1), color='r')"
   ]
  },
  {
   "cell_type": "code",
   "execution_count": 38,
   "id": "1610f594",
   "metadata": {},
   "outputs": [
    {
     "data": {
      "text/plain": [
       "<matplotlib.lines.Line2D at 0x1f801b9e0a0>"
      ]
     },
     "execution_count": 38,
     "metadata": {},
     "output_type": "execute_result"
    },
    {
     "data": {
      "image/png": "[encoded data removed]",
      "text/plain": [
       "<Figure size 432x288 with 1 Axes>"
      ]
     },
     "metadata": {
      "needs_background": "light"
     },
     "output_type": "display_data"
    }
   ],
   "source": [
    "fig, ax = plt.subplots()\n",
    "ax.plot(violation_group.index, violation_group['VIOLATIONS'])\n",
    "plt.axvline(datetime.datetime(2021, 3, 1), color='r')"
   ]
  },
  {
   "cell_type": "markdown",
   "id": "649cdc44",
   "metadata": {},
   "source": [
    "### Data Cleaning"
   ]
  },
  {
   "cell_type": "code",
   "execution_count": 28,
   "id": "4842a793",
   "metadata": {},
   "outputs": [],
   "source": [
    "#Filter crashes to only locations by speed camera\n"
   ]
  },
  {
   "cell_type": "markdown",
   "id": "51d1972c",
   "metadata": {},
   "source": [
    "### Analysis"
   ]
  },
  {
   "cell_type": "code",
   "execution_count": 29,
   "id": "5a8ae337",
   "metadata": {},
   "outputs": [],
   "source": [
    "#Did adding a speed limit camera lower to the street also lower the number of crashes on the road?\n",
    "#Did lowering speed limit threshold lower the number of crashes? How about the number of fatal crashes?\n",
    "#Start with basic t-Test\n",
    "#Try ARIMA "
   ]
  },
  {
   "cell_type": "markdown",
   "id": "7a122d7a",
   "metadata": {},
   "source": [
    "### Conclusion"
   ]
  },
  {
   "cell_type": "code",
   "execution_count": null,
   "id": "f2e1845b",
   "metadata": {},
   "outputs": [],
   "source": []
  }
 ],
 "metadata": {
  "kernelspec": {
   "display_name": "Python 3",
   "language": "python",
   "name": "python3"
  },
  "language_info": {
   "codemirror_mode": {
    "name": "ipython",
    "version": 3
   },
   "file_extension": ".py",
   "mimetype": "text/x-python",
   "name": "python",
   "nbconvert_exporter": "python",
   "pygments_lexer": "ipython3",
   "version": "3.8.10"
  }
 },
 "nbformat": 4,
 "nbformat_minor": 5
}
